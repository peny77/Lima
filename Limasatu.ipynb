{
 "cells": [
  {
   "cell_type": "markdown",
   "metadata": {},
   "source": [
    "# Bikeshare Ridership (2017 Q1)"
   ]
  },
  {
   "cell_type": "code",
   "execution_count": 1,
   "metadata": {},
   "outputs": [],
   "source": [
    "import pandas as pd\n",
    "import numpy as np"
   ]
  },
  {
   "cell_type": "code",
   "execution_count": 2,
   "metadata": {},
   "outputs": [
    {
     "data": {
      "text/html": [
       "<div>\n",
       "<style scoped>\n",
       "    .dataframe tbody tr th:only-of-type {\n",
       "        vertical-align: middle;\n",
       "    }\n",
       "\n",
       "    .dataframe tbody tr th {\n",
       "        vertical-align: top;\n",
       "    }\n",
       "\n",
       "    .dataframe thead th {\n",
       "        text-align: right;\n",
       "    }\n",
       "</style>\n",
       "<table border=\"1\" class=\"dataframe\">\n",
       "  <thead>\n",
       "    <tr style=\"text-align: right;\">\n",
       "      <th></th>\n",
       "      <th>trip_id</th>\n",
       "      <th>trip_start_time</th>\n",
       "      <th>trip_stop_time</th>\n",
       "      <th>trip_duration_seconds</th>\n",
       "      <th>from_station_id</th>\n",
       "      <th>from_station_name</th>\n",
       "      <th>to_station_id</th>\n",
       "      <th>to_station_name</th>\n",
       "      <th>user_type</th>\n",
       "    </tr>\n",
       "  </thead>\n",
       "  <tbody>\n",
       "    <tr>\n",
       "      <th>0</th>\n",
       "      <td>712382</td>\n",
       "      <td>1/1/2017 00:00</td>\n",
       "      <td>1/1/2017 00:03</td>\n",
       "      <td>223</td>\n",
       "      <td>7051</td>\n",
       "      <td>Wellesley St E / Yonge St Green P</td>\n",
       "      <td>7089</td>\n",
       "      <td>Church St  / Wood St</td>\n",
       "      <td>Member</td>\n",
       "    </tr>\n",
       "    <tr>\n",
       "      <th>1</th>\n",
       "      <td>712383</td>\n",
       "      <td>1/1/2017 00:00</td>\n",
       "      <td>1/1/2017 00:05</td>\n",
       "      <td>279</td>\n",
       "      <td>7143</td>\n",
       "      <td>Kendal Ave / Bernard Ave</td>\n",
       "      <td>7154</td>\n",
       "      <td>Bathurst Subway Station</td>\n",
       "      <td>Member</td>\n",
       "    </tr>\n",
       "    <tr>\n",
       "      <th>2</th>\n",
       "      <td>712384</td>\n",
       "      <td>1/1/2017 00:05</td>\n",
       "      <td>1/1/2017 00:29</td>\n",
       "      <td>1394</td>\n",
       "      <td>7113</td>\n",
       "      <td>Parliament St / Aberdeen Ave</td>\n",
       "      <td>7199</td>\n",
       "      <td>College St W / Markham St</td>\n",
       "      <td>Member</td>\n",
       "    </tr>\n",
       "    <tr>\n",
       "      <th>3</th>\n",
       "      <td>712385</td>\n",
       "      <td>1/1/2017 00:07</td>\n",
       "      <td>1/1/2017 00:21</td>\n",
       "      <td>826</td>\n",
       "      <td>7077</td>\n",
       "      <td>College Park South</td>\n",
       "      <td>7010</td>\n",
       "      <td>King St W / Spadina Ave</td>\n",
       "      <td>Member</td>\n",
       "    </tr>\n",
       "    <tr>\n",
       "      <th>4</th>\n",
       "      <td>712386</td>\n",
       "      <td>1/1/2017 00:08</td>\n",
       "      <td>1/1/2017 00:12</td>\n",
       "      <td>279</td>\n",
       "      <td>7079</td>\n",
       "      <td>McGill St / Church St</td>\n",
       "      <td>7047</td>\n",
       "      <td>University Ave / Gerrard St W</td>\n",
       "      <td>Member</td>\n",
       "    </tr>\n",
       "  </tbody>\n",
       "</table>\n",
       "</div>"
      ],
      "text/plain": [
       "   trip_id trip_start_time  trip_stop_time  trip_duration_seconds  \\\n",
       "0   712382  1/1/2017 00:00  1/1/2017 00:03                    223   \n",
       "1   712383  1/1/2017 00:00  1/1/2017 00:05                    279   \n",
       "2   712384  1/1/2017 00:05  1/1/2017 00:29                   1394   \n",
       "3   712385  1/1/2017 00:07  1/1/2017 00:21                    826   \n",
       "4   712386  1/1/2017 00:08  1/1/2017 00:12                    279   \n",
       "\n",
       "   from_station_id                  from_station_name  to_station_id  \\\n",
       "0             7051  Wellesley St E / Yonge St Green P           7089   \n",
       "1             7143           Kendal Ave / Bernard Ave           7154   \n",
       "2             7113       Parliament St / Aberdeen Ave           7199   \n",
       "3             7077                 College Park South           7010   \n",
       "4             7079              McGill St / Church St           7047   \n",
       "\n",
       "                 to_station_name user_type  \n",
       "0           Church St  / Wood St    Member  \n",
       "1        Bathurst Subway Station    Member  \n",
       "2      College St W / Markham St    Member  \n",
       "3        King St W / Spadina Ave    Member  \n",
       "4  University Ave / Gerrard St W    Member  "
      ]
     },
     "execution_count": 2,
     "metadata": {},
     "output_type": "execute_result"
    }
   ],
   "source": [
    "df = pd.read_csv('brq1.csv')\n",
    "df.head()"
   ]
  },
  {
   "cell_type": "markdown",
   "metadata": {},
   "source": [
    "### Mencari tahu berapa persentase sepeda kembali ke lokasi awalnya?"
   ]
  },
  {
   "cell_type": "code",
   "execution_count": 3,
   "metadata": {},
   "outputs": [
    {
     "data": {
      "text/html": [
       "<div>\n",
       "<style scoped>\n",
       "    .dataframe tbody tr th:only-of-type {\n",
       "        vertical-align: middle;\n",
       "    }\n",
       "\n",
       "    .dataframe tbody tr th {\n",
       "        vertical-align: top;\n",
       "    }\n",
       "\n",
       "    .dataframe thead th {\n",
       "        text-align: right;\n",
       "    }\n",
       "</style>\n",
       "<table border=\"1\" class=\"dataframe\">\n",
       "  <thead>\n",
       "    <tr style=\"text-align: right;\">\n",
       "      <th></th>\n",
       "      <th>trip_id</th>\n",
       "      <th>trip_start_time</th>\n",
       "      <th>trip_stop_time</th>\n",
       "      <th>trip_duration_seconds</th>\n",
       "      <th>from_station_id</th>\n",
       "      <th>from_station_name</th>\n",
       "      <th>to_station_id</th>\n",
       "      <th>to_station_name</th>\n",
       "      <th>user_type</th>\n",
       "    </tr>\n",
       "  </thead>\n",
       "  <tbody>\n",
       "    <tr>\n",
       "      <th>64</th>\n",
       "      <td>712447</td>\n",
       "      <td>1/1/2017 04:15</td>\n",
       "      <td>1/1/2017 04:25</td>\n",
       "      <td>625</td>\n",
       "      <td>7003</td>\n",
       "      <td>Madison Ave / Bloor St W</td>\n",
       "      <td>7003</td>\n",
       "      <td>Madison Ave / Bloor St W</td>\n",
       "      <td>Member</td>\n",
       "    </tr>\n",
       "    <tr>\n",
       "      <th>100</th>\n",
       "      <td>712484</td>\n",
       "      <td>1/1/2017 06:42</td>\n",
       "      <td>1/1/2017 06:44</td>\n",
       "      <td>79</td>\n",
       "      <td>7060</td>\n",
       "      <td>Princess St / Adelaide St</td>\n",
       "      <td>7060</td>\n",
       "      <td>Princess St / Adelaide St</td>\n",
       "      <td>Member</td>\n",
       "    </tr>\n",
       "    <tr>\n",
       "      <th>125</th>\n",
       "      <td>712510</td>\n",
       "      <td>1/1/2017 09:57</td>\n",
       "      <td>1/1/2017 10:03</td>\n",
       "      <td>359</td>\n",
       "      <td>7100</td>\n",
       "      <td>Dundas St E / Regent Park Blvd</td>\n",
       "      <td>7100</td>\n",
       "      <td>Dundas St E / Regent Park Blvd</td>\n",
       "      <td>Member</td>\n",
       "    </tr>\n",
       "    <tr>\n",
       "      <th>192</th>\n",
       "      <td>712580</td>\n",
       "      <td>1/1/2017 17:03</td>\n",
       "      <td>1/1/2017 17:36</td>\n",
       "      <td>1961</td>\n",
       "      <td>7018</td>\n",
       "      <td>Bremner Blvd / Rees St</td>\n",
       "      <td>7018</td>\n",
       "      <td>Bremner Blvd / Rees St</td>\n",
       "      <td>Casual</td>\n",
       "    </tr>\n",
       "    <tr>\n",
       "      <th>198</th>\n",
       "      <td>712586</td>\n",
       "      <td>1/1/2017 17:08</td>\n",
       "      <td>1/1/2017 18:36</td>\n",
       "      <td>5295</td>\n",
       "      <td>7016</td>\n",
       "      <td>Bay St / Queens Quay W (Ferry Terminal)</td>\n",
       "      <td>7016</td>\n",
       "      <td>Bay St / Queens Quay W (Ferry Terminal)</td>\n",
       "      <td>Casual</td>\n",
       "    </tr>\n",
       "    <tr>\n",
       "      <th>...</th>\n",
       "      <td>...</td>\n",
       "      <td>...</td>\n",
       "      <td>...</td>\n",
       "      <td>...</td>\n",
       "      <td>...</td>\n",
       "      <td>...</td>\n",
       "      <td>...</td>\n",
       "      <td>...</td>\n",
       "      <td>...</td>\n",
       "    </tr>\n",
       "    <tr>\n",
       "      <th>131744</th>\n",
       "      <td>868250</td>\n",
       "      <td>31/3/2017 17:04</td>\n",
       "      <td>31/3/2017 17:10</td>\n",
       "      <td>339</td>\n",
       "      <td>7007</td>\n",
       "      <td>College St W / Huron St</td>\n",
       "      <td>7007</td>\n",
       "      <td>College St W / Huron St</td>\n",
       "      <td>Member</td>\n",
       "    </tr>\n",
       "    <tr>\n",
       "      <th>131798</th>\n",
       "      <td>868307</td>\n",
       "      <td>31/3/2017 18:08</td>\n",
       "      <td>31/3/2017 18:21</td>\n",
       "      <td>813</td>\n",
       "      <td>7022</td>\n",
       "      <td>Simcoe St / Queen St W</td>\n",
       "      <td>7022</td>\n",
       "      <td>Simcoe St / Queen St W</td>\n",
       "      <td>Member</td>\n",
       "    </tr>\n",
       "    <tr>\n",
       "      <th>131814</th>\n",
       "      <td>868324</td>\n",
       "      <td>31/3/2017 18:33</td>\n",
       "      <td>31/3/2017 18:54</td>\n",
       "      <td>1267</td>\n",
       "      <td>7010</td>\n",
       "      <td>King St W / Spadina Ave</td>\n",
       "      <td>7010</td>\n",
       "      <td>King St W / Spadina Ave</td>\n",
       "      <td>Member</td>\n",
       "    </tr>\n",
       "    <tr>\n",
       "      <th>131841</th>\n",
       "      <td>868352</td>\n",
       "      <td>31/3/2017 19:13</td>\n",
       "      <td>31/3/2017 19:15</td>\n",
       "      <td>82</td>\n",
       "      <td>7007</td>\n",
       "      <td>College St W / Huron St</td>\n",
       "      <td>7007</td>\n",
       "      <td>College St W / Huron St</td>\n",
       "      <td>Member</td>\n",
       "    </tr>\n",
       "    <tr>\n",
       "      <th>131874</th>\n",
       "      <td>868388</td>\n",
       "      <td>31/3/2017 19:57</td>\n",
       "      <td>31/3/2017 20:15</td>\n",
       "      <td>1058</td>\n",
       "      <td>7133</td>\n",
       "      <td>Summerhill Station</td>\n",
       "      <td>7133</td>\n",
       "      <td>Summerhill Station</td>\n",
       "      <td>Casual</td>\n",
       "    </tr>\n",
       "  </tbody>\n",
       "</table>\n",
       "<p>1549 rows × 9 columns</p>\n",
       "</div>"
      ],
      "text/plain": [
       "        trip_id  trip_start_time   trip_stop_time  trip_duration_seconds  \\\n",
       "64       712447   1/1/2017 04:15   1/1/2017 04:25                    625   \n",
       "100      712484   1/1/2017 06:42   1/1/2017 06:44                     79   \n",
       "125      712510   1/1/2017 09:57   1/1/2017 10:03                    359   \n",
       "192      712580   1/1/2017 17:03   1/1/2017 17:36                   1961   \n",
       "198      712586   1/1/2017 17:08   1/1/2017 18:36                   5295   \n",
       "...         ...              ...              ...                    ...   \n",
       "131744   868250  31/3/2017 17:04  31/3/2017 17:10                    339   \n",
       "131798   868307  31/3/2017 18:08  31/3/2017 18:21                    813   \n",
       "131814   868324  31/3/2017 18:33  31/3/2017 18:54                   1267   \n",
       "131841   868352  31/3/2017 19:13  31/3/2017 19:15                     82   \n",
       "131874   868388  31/3/2017 19:57  31/3/2017 20:15                   1058   \n",
       "\n",
       "        from_station_id                        from_station_name  \\\n",
       "64                 7003                 Madison Ave / Bloor St W   \n",
       "100                7060                Princess St / Adelaide St   \n",
       "125                7100           Dundas St E / Regent Park Blvd   \n",
       "192                7018                   Bremner Blvd / Rees St   \n",
       "198                7016  Bay St / Queens Quay W (Ferry Terminal)   \n",
       "...                 ...                                      ...   \n",
       "131744             7007                  College St W / Huron St   \n",
       "131798             7022                   Simcoe St / Queen St W   \n",
       "131814             7010                  King St W / Spadina Ave   \n",
       "131841             7007                  College St W / Huron St   \n",
       "131874             7133                       Summerhill Station   \n",
       "\n",
       "        to_station_id                          to_station_name user_type  \n",
       "64               7003                 Madison Ave / Bloor St W    Member  \n",
       "100              7060                Princess St / Adelaide St    Member  \n",
       "125              7100           Dundas St E / Regent Park Blvd    Member  \n",
       "192              7018                   Bremner Blvd / Rees St    Casual  \n",
       "198              7016  Bay St / Queens Quay W (Ferry Terminal)    Casual  \n",
       "...               ...                                      ...       ...  \n",
       "131744           7007                  College St W / Huron St    Member  \n",
       "131798           7022                   Simcoe St / Queen St W    Member  \n",
       "131814           7010                  King St W / Spadina Ave    Member  \n",
       "131841           7007                  College St W / Huron St    Member  \n",
       "131874           7133                       Summerhill Station    Casual  \n",
       "\n",
       "[1549 rows x 9 columns]"
      ]
     },
     "execution_count": 3,
     "metadata": {},
     "output_type": "execute_result"
    }
   ],
   "source": [
    "station = df[df['from_station_id'] == df['to_station_id']]\n",
    "station"
   ]
  },
  {
   "cell_type": "code",
   "execution_count": 4,
   "metadata": {},
   "outputs": [
    {
     "data": {
      "text/plain": [
       "1.1723923919378156"
      ]
     },
     "execution_count": 4,
     "metadata": {},
     "output_type": "execute_result"
    }
   ],
   "source": [
    "total =  len(df)\n",
    "jumlah = len(station)\n",
    "persentase = jumlah / total * 100\n",
    "persentase"
   ]
  },
  {
   "cell_type": "code",
   "execution_count": 5,
   "metadata": {},
   "outputs": [
    {
     "data": {
      "image/png": "[encoded data removed]",
      "text/plain": [
       "<Figure size 504x504 with 1 Axes>"
      ]
     },
     "metadata": {},
     "output_type": "display_data"
    }
   ],
   "source": [
    "import matplotlib.pyplot as plt\n",
    "\n",
    "fig, ax = plt.subplots(figsize = (7,7))\n",
    "plt.rcParams['font.sans-serif'] = 'Arial'\n",
    "plt.rcParams['font.family'] = 'sans-serif'\n",
    "plt.rcParams['text.color'] = '#909090'\n",
    "plt.rcParams['axes.labelcolor']= '#909090'\n",
    "plt.rcParams['font.size']=23\n",
    "labels = ['Return', 'Not Return']\n",
    "color_palette_list = ['#009ACD', '#ADD8E6', '#63D1F4', '#0EBFE9',   \n",
    "                      '#C1F0F6', '#0099CC']\n",
    "percentages = [jumlah, total]\n",
    "explode=(0.12,0.111)\n",
    "ax.pie(percentages, explode=explode, labels=labels, autopct='%1.0f%%', \n",
    "       shadow=False, startangle=0,   \n",
    "       pctdistance=1.2,labeldistance=1.4)\n",
    "ax.axis('equal');"
   ]
  },
  {
   "cell_type": "markdown",
   "metadata": {},
   "source": [
    "### Berapa banyak perjalanan bikeshare biasanya mengunjungi lebih dari sekadar titik awal / akhir, tetapi mengunjungi beberapa poin lain sebelum penghujung hari?"
   ]
  },
  {
   "cell_type": "code",
   "execution_count": 6,
   "metadata": {},
   "outputs": [
    {
     "data": {
      "text/plain": [
       "Index(['trip_id', 'trip_start_time', 'trip_stop_time', 'trip_duration_seconds',\n",
       "       'from_station_id', 'from_station_name', 'to_station_id',\n",
       "       'to_station_name', 'user_type'],\n",
       "      dtype='object')"
      ]
     },
     "execution_count": 6,
     "metadata": {},
     "output_type": "execute_result"
    }
   ],
   "source": [
    "df.columns"
   ]
  },
  {
   "cell_type": "code",
   "execution_count": 7,
   "metadata": {},
   "outputs": [
    {
     "data": {
      "text/html": [
       "<div>\n",
       "<style scoped>\n",
       "    .dataframe tbody tr th:only-of-type {\n",
       "        vertical-align: middle;\n",
       "    }\n",
       "\n",
       "    .dataframe tbody tr th {\n",
       "        vertical-align: top;\n",
       "    }\n",
       "\n",
       "    .dataframe thead th {\n",
       "        text-align: right;\n",
       "    }\n",
       "</style>\n",
       "<table border=\"1\" class=\"dataframe\">\n",
       "  <thead>\n",
       "    <tr style=\"text-align: right;\">\n",
       "      <th></th>\n",
       "      <th>trip_start_time</th>\n",
       "      <th>trip_stop_time</th>\n",
       "      <th>trip_duration_seconds</th>\n",
       "    </tr>\n",
       "  </thead>\n",
       "  <tbody>\n",
       "    <tr>\n",
       "      <th>0</th>\n",
       "      <td>1/1/2017 00:00</td>\n",
       "      <td>1/1/2017 00:03</td>\n",
       "      <td>223</td>\n",
       "    </tr>\n",
       "    <tr>\n",
       "      <th>1</th>\n",
       "      <td>1/1/2017 00:00</td>\n",
       "      <td>1/1/2017 00:05</td>\n",
       "      <td>279</td>\n",
       "    </tr>\n",
       "    <tr>\n",
       "      <th>2</th>\n",
       "      <td>1/1/2017 00:05</td>\n",
       "      <td>1/1/2017 00:29</td>\n",
       "      <td>1394</td>\n",
       "    </tr>\n",
       "    <tr>\n",
       "      <th>3</th>\n",
       "      <td>1/1/2017 00:07</td>\n",
       "      <td>1/1/2017 00:21</td>\n",
       "      <td>826</td>\n",
       "    </tr>\n",
       "    <tr>\n",
       "      <th>4</th>\n",
       "      <td>1/1/2017 00:08</td>\n",
       "      <td>1/1/2017 00:12</td>\n",
       "      <td>279</td>\n",
       "    </tr>\n",
       "  </tbody>\n",
       "</table>\n",
       "</div>"
      ],
      "text/plain": [
       "  trip_start_time  trip_stop_time  trip_duration_seconds\n",
       "0  1/1/2017 00:00  1/1/2017 00:03                    223\n",
       "1  1/1/2017 00:00  1/1/2017 00:05                    279\n",
       "2  1/1/2017 00:05  1/1/2017 00:29                   1394\n",
       "3  1/1/2017 00:07  1/1/2017 00:21                    826\n",
       "4  1/1/2017 00:08  1/1/2017 00:12                    279"
      ]
     },
     "execution_count": 7,
     "metadata": {},
     "output_type": "execute_result"
    }
   ],
   "source": [
    "df_time = df[['trip_start_time', 'trip_stop_time', 'trip_duration_seconds']]\n",
    "df_time.head()"
   ]
  },
  {
   "cell_type": "markdown",
   "metadata": {},
   "source": [
    "### Jumlah stasiun keberangkatan"
   ]
  },
  {
   "cell_type": "code",
   "execution_count": 14,
   "metadata": {},
   "outputs": [
    {
     "data": {
      "text/plain": [
       "Union Station                      2408\n",
       "Bay St / College St (East Side)    2159\n",
       "Simcoe St / Wellington St W        2091\n",
       "King St W / Spadina Ave            2023\n",
       "Dundas St / Yonge St               2005\n",
       "Name: from_station_name, dtype: int64"
      ]
     },
     "execution_count": 14,
     "metadata": {},
     "output_type": "execute_result"
    }
   ],
   "source": [
    "df[\"from_station_name\"].value_counts().head()"
   ]
  },
  {
   "cell_type": "markdown",
   "metadata": {},
   "source": [
    "### Jumlah stasiun tujuan"
   ]
  },
  {
   "cell_type": "code",
   "execution_count": 15,
   "metadata": {},
   "outputs": [
    {
     "data": {
      "text/plain": [
       "Union Station                      3493\n",
       "Simcoe St / Wellington St W        2679\n",
       "Dundas St / Yonge St               2270\n",
       "King St W / Spadina Ave            2179\n",
       "Bay St / College St (East Side)    2154\n",
       "Name: to_station_name, dtype: int64"
      ]
     },
     "execution_count": 15,
     "metadata": {},
     "output_type": "execute_result"
    }
   ],
   "source": [
    "df[\"to_station_name\"].value_counts().head()"
   ]
  },
  {
   "cell_type": "code",
   "execution_count": null,
   "metadata": {},
   "outputs": [],
   "source": []
  },
  {
   "cell_type": "markdown",
   "metadata": {},
   "source": [
    "### Member dan Casual"
   ]
  },
  {
   "cell_type": "code",
   "execution_count": 16,
   "metadata": {},
   "outputs": [
    {
     "data": {
      "image/png": "[encoded data removed]",
      "text/plain": [
       "<Figure size 1080x1080 with 2 Axes>"
      ]
     },
     "metadata": {},
     "output_type": "display_data"
    }
   ],
   "source": [
    "df['counter'] = 1\n",
    "user = df.groupby(['user_type']).sum()\n",
    "\n",
    "plt.figure(figsize=(15,15));\n",
    "plt.subplot(1,2,1)\n",
    "plt.pie(user.counter.values, startangle=180, labels=user.index, autopct='%.1f%%', explode=(.05,0));\n",
    "plt.title('Casual vs Member Trip Number');\n",
    "plt.xlabel\n",
    "plt.subplot(1,2,2)\n",
    "plt.pie(user.trip_duration_seconds.values, startangle=180, labels=user.index, autopct='%.1f%%', explode=(.05,0));\n",
    "plt.title('Casual vs Member Trip Duration');"
   ]
  },
  {
   "cell_type": "code",
   "execution_count": 17,
   "metadata": {},
   "outputs": [
    {
     "data": {
      "text/plain": [
       "Index(['trip_id', 'trip_start_time', 'trip_stop_time', 'trip_duration_seconds',\n",
       "       'from_station_id', 'from_station_name', 'to_station_id',\n",
       "       'to_station_name', 'user_type', 'counter'],\n",
       "      dtype='object')"
      ]
     },
     "execution_count": 17,
     "metadata": {},
     "output_type": "execute_result"
    }
   ],
   "source": [
    "df.columns"
   ]
  },
  {
   "cell_type": "code",
   "execution_count": 25,
   "metadata": {},
   "outputs": [],
   "source": [
    "dele = df.drop(['counter'], axis=1)"
   ]
  },
  {
   "cell_type": "markdown",
   "metadata": {},
   "source": [
    "### Korelasi"
   ]
  },
  {
   "cell_type": "code",
   "execution_count": 28,
   "metadata": {},
   "outputs": [
    {
     "data": {
      "image/png": "[encoded data removed]",
      "text/plain": [
       "<Figure size 432x288 with 2 Axes>"
      ]
     },
     "metadata": {
      "needs_background": "light"
     },
     "output_type": "display_data"
    }
   ],
   "source": [
    "import seaborn as sns\n",
    "\n",
    "corrMatrix = dele.corr()\n",
    "sns.heatmap(corrMatrix, annot=True)\n",
    "plt.show()"
   ]
  },
  {
   "cell_type": "code",
   "execution_count": null,
   "metadata": {},
   "outputs": [],
   "source": []
  }
 ],
 "metadata": {
  "kernelspec": {
   "display_name": "Python 3",
   "language": "python",
   "name": "python3"
  },
  "language_info": {
   "codemirror_mode": {
    "name": "ipython",
    "version": 3
   },
   "file_extension": ".py",
   "mimetype": "text/x-python",
   "name": "python",
   "nbconvert_exporter": "python",
   "pygments_lexer": "ipython3",
   "version": "3.8.3"
  }
 },
 "nbformat": 4,
 "nbformat_minor": 4
}
